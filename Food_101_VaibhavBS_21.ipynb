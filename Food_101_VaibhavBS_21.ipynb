{
  "metadata": {
    "kernelspec": {
      "language": "python",
      "display_name": "Python 3",
      "name": "python3"
    },
    "language_info": {
      "name": "python",
      "version": "3.7.12",
      "mimetype": "text/x-python",
      "codemirror_mode": {
        "name": "ipython",
        "version": 3
      },
      "pygments_lexer": "ipython3",
      "nbconvert_exporter": "python",
      "file_extension": ".py"
    },
    "kaggle": {
      "accelerator": "gpu",
      "dataSources": [
        {
          "sourceId": 11959,
          "sourceType": "datasetVersion",
          "datasetId": 8544
        }
      ],
      "dockerImageVersionId": 30262,
      "isInternetEnabled": true,
      "language": "python",
      "sourceType": "notebook",
      "isGpuEnabled": true
    },
    "colab": {
      "name": "Food-101 VaibhavBS@21",
      "provenance": []
    }
  },
  "nbformat_minor": 0,
  "nbformat": 4,
  "cells": [
    {
      "source": [
        "\n",
        "# IMPORTANT: RUN THIS CELL IN ORDER TO IMPORT YOUR KAGGLE DATA SOURCES\n",
        "# TO THE CORRECT LOCATION (/kaggle/input) IN YOUR NOTEBOOK,\n",
        "# THEN FEEL FREE TO DELETE THIS CELL.\n",
        "# NOTE: THIS NOTEBOOK ENVIRONMENT DIFFERS FROM KAGGLE'S PYTHON\n",
        "# ENVIRONMENT SO THERE MAY BE MISSING LIBRARIES USED BY YOUR\n",
        "# NOTEBOOK.\n",
        "\n",
        "import os\n",
        "import sys\n",
        "from tempfile import NamedTemporaryFile\n",
        "from urllib.request import urlopen\n",
        "from urllib.parse import unquote, urlparse\n",
        "from urllib.error import HTTPError\n",
        "from zipfile import ZipFile\n",
        "import tarfile\n",
        "import shutil\n",
        "\n",
        "CHUNK_SIZE = 40960\n",
        "DATA_SOURCE_MAPPING = 'food-101:https%3A%2F%2Fstorage.googleapis.com%2Fkaggle-data-sets%2F8544%2F11959%2Fbundle%2Farchive.zip%3FX-Goog-Algorithm%3DGOOG4-RSA-SHA256%26X-Goog-Credential%3Dgcp-kaggle-com%2540kaggle-161607.iam.gserviceaccount.com%252F20240726%252Fauto%252Fstorage%252Fgoog4_request%26X-Goog-Date%3D20240726T162454Z%26X-Goog-Expires%3D259200%26X-Goog-SignedHeaders%3Dhost%26X-Goog-Signature%3D1318d32adeaceff724e51a45cd8ef5d3836b2b5577d62f064d99469199c136c9a9974e490b5c5b842d2734739c2ae5b8df64fd9b6aef8529cd65ccc58bc912a1662ad298442ee6b59300c9da10055d87ce9032e478eea3ccc78ffe6e3214a0753e2c2ce3712b27611039faa3c3ec3d1172c2cbb565acea6f0099d36f5d9878314d335396a82aa36792448ed26c7d378f8e5d42f9eb3566c8fbc16d0e6442b83919870c3e112d6fef1c3bfe085fae1115e130ea865132c55de435edb3b7f4b9b3c3ae6a22c03b8b33ec23254316f7e008a41fddfe04ed1d9fec0fe79991e655fcad35561d0f9aedb1efb4d79d6fedc1711b56e3855d1fe986e4b5de3ad98069af'\n",
        "\n",
        "KAGGLE_INPUT_PATH='/kaggle/input'\n",
        "KAGGLE_WORKING_PATH='/kaggle/working'\n",
        "KAGGLE_SYMLINK='kaggle'\n",
        "\n",
        "!umount /kaggle/input/ 2> /dev/null\n",
        "shutil.rmtree('/kaggle/input', ignore_errors=True)\n",
        "os.makedirs(KAGGLE_INPUT_PATH, 0o777, exist_ok=True)\n",
        "os.makedirs(KAGGLE_WORKING_PATH, 0o777, exist_ok=True)\n",
        "\n",
        "try:\n",
        "  os.symlink(KAGGLE_INPUT_PATH, os.path.join(\"..\", 'input'), target_is_directory=True)\n",
        "except FileExistsError:\n",
        "  pass\n",
        "try:\n",
        "  os.symlink(KAGGLE_WORKING_PATH, os.path.join(\"..\", 'working'), target_is_directory=True)\n",
        "except FileExistsError:\n",
        "  pass\n",
        "\n",
        "for data_source_mapping in DATA_SOURCE_MAPPING.split(','):\n",
        "    directory, download_url_encoded = data_source_mapping.split(':')\n",
        "    download_url = unquote(download_url_encoded)\n",
        "    filename = urlparse(download_url).path\n",
        "    destination_path = os.path.join(KAGGLE_INPUT_PATH, directory)\n",
        "    try:\n",
        "        with urlopen(download_url) as fileres, NamedTemporaryFile() as tfile:\n",
        "            total_length = fileres.headers['content-length']\n",
        "            print(f'Downloading {directory}, {total_length} bytes compressed')\n",
        "            dl = 0\n",
        "            data = fileres.read(CHUNK_SIZE)\n",
        "            while len(data) > 0:\n",
        "                dl += len(data)\n",
        "                tfile.write(data)\n",
        "                done = int(50 * dl / int(total_length))\n",
        "                sys.stdout.write(f\"\\r[{'=' * done}{' ' * (50-done)}] {dl} bytes downloaded\")\n",
        "                sys.stdout.flush()\n",
        "                data = fileres.read(CHUNK_SIZE)\n",
        "            if filename.endswith('.zip'):\n",
        "              with ZipFile(tfile) as zfile:\n",
        "                zfile.extractall(destination_path)\n",
        "            else:\n",
        "              with tarfile.open(tfile.name) as tarfile:\n",
        "                tarfile.extractall(destination_path)\n",
        "            print(f'\\nDownloaded and uncompressed: {directory}')\n",
        "    except HTTPError as e:\n",
        "        print(f'Failed to load (likely expired) {download_url} to path {destination_path}')\n",
        "        continue\n",
        "    except OSError as e:\n",
        "        print(f'Failed to load {download_url} to path {destination_path}')\n",
        "        continue\n",
        "\n",
        "print('Data source import complete.')\n"
      ],
      "metadata": {
        "id": "OI3OJVzx3BlA"
      },
      "cell_type": "code",
      "outputs": [],
      "execution_count": null
    },
    {
      "cell_type": "code",
      "source": [
        "import os\n",
        "import numpy as np\n",
        "import pandas as pd\n",
        "import matplotlib.pyplot as plt\n",
        "import tensorflow.keras.backend as K\n",
        "from tensorflow.keras import regularizers\n",
        "from tensorflow.keras.regularizers import l2\n",
        "from tensorflow.keras.applications import efficientnet\n",
        "from tensorflow.keras.applications.inception_v3 import InceptionV3\n",
        "from tensorflow.keras.applications.inception_resnet_v2 import InceptionResNetV2\n",
        "from tensorflow.keras.models import Sequential, Model\n",
        "from tensorflow.keras.layers import Dense, Dropout, Activation, Flatten, Convolution2D, MaxPooling2D, ZeroPadding2D, GlobalAveragePooling2D, AveragePooling2D\n",
        "from tensorflow.keras.preprocessing.image import ImageDataGenerator\n",
        "from tensorflow.keras.callbacks import ModelCheckpoint, CSVLogger\n",
        "from tensorflow.keras.optimizers import SGD, Adam\n",
        "from tensorflow.keras.applications.xception import Xception"
      ],
      "metadata": {
        "_uuid": "8f2839f25d086af736a60e9eeb907d3b93b6e0e5",
        "_cell_guid": "b1076dfc-b9ad-4769-8c92-a6c4dae69d19",
        "execution": {
          "iopub.status.busy": "2024-07-18T10:32:42.435969Z",
          "iopub.execute_input": "2024-07-18T10:32:42.436769Z",
          "iopub.status.idle": "2024-07-18T10:32:47.608816Z",
          "shell.execute_reply.started": "2024-07-18T10:32:42.436668Z",
          "shell.execute_reply": "2024-07-18T10:32:47.607957Z"
        },
        "trusted": true,
        "id": "AyuG7Tzn3BlC"
      },
      "execution_count": null,
      "outputs": []
    },
    {
      "cell_type": "code",
      "source": [
        "%cd /kaggle/input/food-101/"
      ],
      "metadata": {
        "execution": {
          "iopub.status.busy": "2024-07-18T10:32:49.225487Z",
          "iopub.execute_input": "2024-07-18T10:32:49.226651Z",
          "iopub.status.idle": "2024-07-18T10:32:49.237288Z",
          "shell.execute_reply.started": "2024-07-18T10:32:49.22661Z",
          "shell.execute_reply": "2024-07-18T10:32:49.236178Z"
        },
        "trusted": true,
        "id": "JFuaJAFr3BlD"
      },
      "execution_count": null,
      "outputs": []
    },
    {
      "cell_type": "code",
      "source": [
        "!head 'food-101/food-101/meta/train.txt'"
      ],
      "metadata": {
        "execution": {
          "iopub.status.busy": "2024-07-18T10:32:51.419057Z",
          "iopub.execute_input": "2024-07-18T10:32:51.419757Z",
          "iopub.status.idle": "2024-07-18T10:32:52.427341Z",
          "shell.execute_reply.started": "2024-07-18T10:32:51.419717Z",
          "shell.execute_reply": "2024-07-18T10:32:52.426096Z"
        },
        "trusted": true,
        "id": "RJQi3CAy3BlD"
      },
      "execution_count": null,
      "outputs": []
    },
    {
      "cell_type": "code",
      "source": [
        "train_df = pd.read_csv('food-101/food-101/meta/train.txt', header = None, names=['path'])\n",
        "test_df = pd.read_csv('food-101/food-101/meta/test.txt', header = None, names=['path'])\n",
        "len(train_df)"
      ],
      "metadata": {
        "execution": {
          "iopub.status.busy": "2024-07-18T11:11:07.858886Z",
          "iopub.execute_input": "2024-07-18T11:11:07.859751Z",
          "iopub.status.idle": "2024-07-18T11:11:07.927763Z",
          "shell.execute_reply.started": "2024-07-18T11:11:07.859711Z",
          "shell.execute_reply": "2024-07-18T11:11:07.926661Z"
        },
        "trusted": true,
        "id": "G9tggXX03BlD"
      },
      "execution_count": null,
      "outputs": []
    },
    {
      "cell_type": "code",
      "source": [
        "def spliter(data, class_or_id='id'):\n",
        "    if class_or_id.upper() == 'CLASS':\n",
        "        output = data.split('/')[0]\n",
        "\n",
        "    else:\n",
        "        output = data.split('/')[-1]\n",
        "    return output"
      ],
      "metadata": {
        "execution": {
          "iopub.status.busy": "2024-07-18T11:11:09.438847Z",
          "iopub.execute_input": "2024-07-18T11:11:09.439771Z",
          "iopub.status.idle": "2024-07-18T11:11:09.445324Z",
          "shell.execute_reply.started": "2024-07-18T11:11:09.439729Z",
          "shell.execute_reply": "2024-07-18T11:11:09.444311Z"
        },
        "trusted": true,
        "id": "97NoqNeC3BlD"
      },
      "execution_count": null,
      "outputs": []
    },
    {
      "cell_type": "code",
      "source": [
        "train_df['label'] = train_df['path'].map(lambda x: spliter(data = x, class_or_id = 'Class'))\n",
        "train_df['idx'] = train_df['path'].map(lambda x: spliter(x))\n",
        "test_df['label'] = test_df['path'].map(lambda x: spliter(x, 'class'))\n",
        "test_df['idx'] = test_df['path'].map(lambda x: spliter(x))"
      ],
      "metadata": {
        "execution": {
          "iopub.status.busy": "2024-07-18T11:11:12.37872Z",
          "iopub.execute_input": "2024-07-18T11:11:12.379439Z",
          "iopub.status.idle": "2024-07-18T11:11:12.551267Z",
          "shell.execute_reply.started": "2024-07-18T11:11:12.379401Z",
          "shell.execute_reply": "2024-07-18T11:11:12.550425Z"
        },
        "trusted": true,
        "id": "Bo4iyJWn3BlD"
      },
      "execution_count": null,
      "outputs": []
    },
    {
      "cell_type": "code",
      "source": [
        "food_25 = train_df['label'].unique()[:20]\n",
        "print(food_25)"
      ],
      "metadata": {
        "execution": {
          "iopub.status.busy": "2024-07-18T11:11:14.638712Z",
          "iopub.execute_input": "2024-07-18T11:11:14.639605Z",
          "iopub.status.idle": "2024-07-18T11:11:14.652309Z",
          "shell.execute_reply.started": "2024-07-18T11:11:14.639569Z",
          "shell.execute_reply": "2024-07-18T11:11:14.651179Z"
        },
        "trusted": true,
        "id": "dEc5LSsP3BlD"
      },
      "execution_count": null,
      "outputs": []
    },
    {
      "cell_type": "code",
      "source": [
        "list_ = []\n",
        "for f in food_25:\n",
        "    list_.append(f.upper())\n",
        "food_21 = [food.upper() for food in food_25]"
      ],
      "metadata": {
        "execution": {
          "iopub.status.busy": "2024-07-18T11:11:17.059059Z",
          "iopub.execute_input": "2024-07-18T11:11:17.059988Z",
          "iopub.status.idle": "2024-07-18T11:11:17.064962Z",
          "shell.execute_reply.started": "2024-07-18T11:11:17.05995Z",
          "shell.execute_reply": "2024-07-18T11:11:17.063929Z"
        },
        "trusted": true,
        "id": "Nm5f4ekd3BlE"
      },
      "execution_count": null,
      "outputs": []
    },
    {
      "cell_type": "code",
      "source": [
        "def prepare_data(label):\n",
        "    if label.upper() in food_25:\n",
        "        return label\n",
        "    else:\n",
        "        return 'others'"
      ],
      "metadata": {
        "execution": {
          "iopub.status.busy": "2024-07-18T11:11:19.398831Z",
          "iopub.execute_input": "2024-07-18T11:11:19.399756Z",
          "iopub.status.idle": "2024-07-18T11:11:19.404406Z",
          "shell.execute_reply.started": "2024-07-18T11:11:19.399717Z",
          "shell.execute_reply": "2024-07-18T11:11:19.403439Z"
        },
        "trusted": true,
        "id": "ozVt1_jD3BlE"
      },
      "execution_count": null,
      "outputs": []
    },
    {
      "cell_type": "code",
      "source": [
        "train_df['label'] = train_df['label'].map(lambda x: prepare_data(x))\n",
        "test_df['label'] = test_df['label'].map(lambda x: prepare_data(x))\n",
        "print(train_df['label'].unique())"
      ],
      "metadata": {
        "execution": {
          "iopub.status.busy": "2024-07-18T11:11:21.438313Z",
          "iopub.execute_input": "2024-07-18T11:11:21.438971Z",
          "iopub.status.idle": "2024-07-18T11:11:22.209493Z",
          "shell.execute_reply.started": "2024-07-18T11:11:21.438934Z",
          "shell.execute_reply": "2024-07-18T11:11:22.208306Z"
        },
        "trusted": true,
        "id": "RpEy4ZNK3BlE"
      },
      "execution_count": null,
      "outputs": []
    },
    {
      "cell_type": "code",
      "source": [
        "def Adding_Path(path):\n",
        "    return 'food-101/food-101/images/'+path+'.jpg'\n",
        "train_df['path'] = train_df[['path']].apply(Adding_Path, axis=1)\n",
        "test_df['path'] = test_df[['path']].apply(Adding_Path, axis=1)"
      ],
      "metadata": {
        "execution": {
          "iopub.status.busy": "2024-07-18T11:11:24.838782Z",
          "iopub.execute_input": "2024-07-18T11:11:24.839619Z",
          "iopub.status.idle": "2024-07-18T11:11:50.05169Z",
          "shell.execute_reply.started": "2024-07-18T11:11:24.839579Z",
          "shell.execute_reply": "2024-07-18T11:11:50.050846Z"
        },
        "trusted": true,
        "id": "GTkRNXxE3BlE"
      },
      "execution_count": null,
      "outputs": []
    },
    {
      "cell_type": "code",
      "source": [
        "test_images = plt.imread(test_df['path'].iloc[118])\n",
        "test_images = test_images/200.\n",
        "test_images.shape"
      ],
      "metadata": {
        "execution": {
          "iopub.status.busy": "2024-07-18T11:12:21.329672Z",
          "iopub.execute_input": "2024-07-18T11:12:21.330505Z",
          "iopub.status.idle": "2024-07-18T11:12:21.346467Z",
          "shell.execute_reply.started": "2024-07-18T11:12:21.330466Z",
          "shell.execute_reply": "2024-07-18T11:12:21.345554Z"
        },
        "trusted": true,
        "id": "RK8KZqN53BlE"
      },
      "execution_count": null,
      "outputs": []
    },
    {
      "cell_type": "code",
      "source": [
        "train_images = plt.imread(train_df['path'].iloc[105])\n",
        "plt.imshow(train_images)\n",
        "train_images.shape"
      ],
      "metadata": {
        "execution": {
          "iopub.status.busy": "2024-07-18T11:12:59.944647Z",
          "iopub.execute_input": "2024-07-18T11:12:59.945032Z",
          "iopub.status.idle": "2024-07-18T11:13:00.225564Z",
          "shell.execute_reply.started": "2024-07-18T11:12:59.944999Z",
          "shell.execute_reply": "2024-07-18T11:13:00.224579Z"
        },
        "trusted": true,
        "id": "ftedNHd43BlE"
      },
      "execution_count": null,
      "outputs": []
    },
    {
      "cell_type": "code",
      "source": [
        "datagen = ImageDataGenerator(rescale=1. / 255,\n",
        "        shear_range=0.2,\n",
        "        zoom_range=0.2,\n",
        "        horizontal_flip=True\n",
        "    )\n",
        "#test_gen = ImageDataGenerator(rescale=1. / 255)\n",
        "\n",
        "test_gen = datagen.flow_from_dataframe(dataframe = test_df, directory=None, x_col='path', y_col='label',\n",
        "    weight_col=None, target_size=(256, 256), color_mode='rgb',\n",
        "    classes=None, class_mode='categorical', batch_size=32,shuffle=False)\n",
        "\n",
        "train_gen = datagen.flow_from_dataframe(dataframe = train_df, directory=None, x_col='path', y_col='label',\n",
        "    weight_col=None, target_size=(256, 256), color_mode='rgb',\n",
        "    classes=None, class_mode='categorical', batch_size=32, shuffle=True)"
      ],
      "metadata": {
        "execution": {
          "iopub.status.busy": "2024-07-18T10:33:44.914374Z",
          "iopub.execute_input": "2024-07-18T10:33:44.915302Z",
          "iopub.status.idle": "2024-07-18T10:38:02.581539Z",
          "shell.execute_reply.started": "2024-07-18T10:33:44.915261Z",
          "shell.execute_reply": "2024-07-18T10:38:02.580468Z"
        },
        "trusted": true,
        "id": "uX6-x9s-3BlE"
      },
      "execution_count": null,
      "outputs": []
    },
    {
      "cell_type": "code",
      "source": [
        "inception = Xception(weights='imagenet', include_top=False)\n",
        "x = inception.output\n",
        "x = GlobalAveragePooling2D()(x)\n",
        "x = Dense(256,activation='relu')(x)\n",
        "x = Dense(128,activation='relu')(x)\n",
        "x = Dropout(0.2)(x)\n",
        "\n",
        "predictions = Dense(21, activation='softmax')(x)\n",
        "\n",
        "model = Model(inputs=inception.input, outputs=predictions)\n",
        "model.compile(optimizer=Adam(learning_rate=0.0001), loss='categorical_crossentropy', metrics=['accuracy'])"
      ],
      "metadata": {
        "execution": {
          "iopub.status.busy": "2024-07-18T10:38:04.819196Z",
          "iopub.execute_input": "2024-07-18T10:38:04.820132Z",
          "iopub.status.idle": "2024-07-18T10:38:12.24849Z",
          "shell.execute_reply.started": "2024-07-18T10:38:04.820091Z",
          "shell.execute_reply": "2024-07-18T10:38:12.247608Z"
        },
        "trusted": true,
        "id": "HUeaXuo23BlF"
      },
      "execution_count": null,
      "outputs": []
    },
    {
      "cell_type": "code",
      "source": [
        "history = model.fit(train_gen,\n",
        "                    steps_per_epoch = len(train_gen) // 3,\n",
        "                    epochs=2,\n",
        "                    verbose=1)"
      ],
      "metadata": {
        "execution": {
          "iopub.status.busy": "2024-07-18T10:38:26.570079Z",
          "iopub.execute_input": "2024-07-18T10:38:26.570732Z",
          "iopub.status.idle": "2024-07-18T10:58:04.315785Z",
          "shell.execute_reply.started": "2024-07-18T10:38:26.570696Z",
          "shell.execute_reply": "2024-07-18T10:58:04.314846Z"
        },
        "trusted": true,
        "id": "Qg5xzZeM3BlF"
      },
      "execution_count": null,
      "outputs": []
    },
    {
      "cell_type": "code",
      "source": [
        "print(history.history.keys())"
      ],
      "metadata": {
        "execution": {
          "iopub.status.busy": "2024-07-18T10:58:08.194244Z",
          "iopub.execute_input": "2024-07-18T10:58:08.19526Z",
          "iopub.status.idle": "2024-07-18T10:58:08.20099Z",
          "shell.execute_reply.started": "2024-07-18T10:58:08.195218Z",
          "shell.execute_reply": "2024-07-18T10:58:08.19982Z"
        },
        "trusted": true,
        "id": "5EfiUNOD3BlF"
      },
      "execution_count": null,
      "outputs": []
    },
    {
      "cell_type": "code",
      "source": [
        "# summarize history for accuracy\n",
        "plt.plot(history.history['accuracy'])\n",
        "plt.plot(history.history['loss'])\n",
        "plt.title('model accuracy')\n",
        "plt.ylabel('accuracy')\n",
        "plt.xlabel('epoch')\n",
        "plt.legend(['Training Accuracy', 'Training Loss'], loc='upper left')\n",
        "plt.show()"
      ],
      "metadata": {
        "execution": {
          "iopub.status.busy": "2024-07-18T10:58:11.538742Z",
          "iopub.execute_input": "2024-07-18T10:58:11.539427Z",
          "iopub.status.idle": "2024-07-18T10:58:11.935908Z",
          "shell.execute_reply.started": "2024-07-18T10:58:11.539371Z",
          "shell.execute_reply": "2024-07-18T10:58:11.934882Z"
        },
        "trusted": true,
        "id": "4hOMfTft3BlF"
      },
      "execution_count": null,
      "outputs": []
    },
    {
      "cell_type": "code",
      "source": [
        "results = model.evaluate(test_gen, batch_size=3)\n",
        "print(results)\n",
        "#import sys\n",
        "#sys.getsizeof(test_gen)"
      ],
      "metadata": {
        "execution": {
          "iopub.status.busy": "2024-07-18T10:58:16.418849Z",
          "iopub.execute_input": "2024-07-18T10:58:16.419215Z",
          "iopub.status.idle": "2024-07-18T11:08:33.860532Z",
          "shell.execute_reply.started": "2024-07-18T10:58:16.419185Z",
          "shell.execute_reply": "2024-07-18T11:08:33.859521Z"
        },
        "trusted": true,
        "id": "tzSivQea3BlF"
      },
      "execution_count": null,
      "outputs": []
    },
    {
      "cell_type": "code",
      "source": [],
      "metadata": {
        "id": "MrNy-xHH3BlF"
      },
      "execution_count": null,
      "outputs": []
    }
  ]
}